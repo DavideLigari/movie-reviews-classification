{
 "cells": [
  {
   "attachments": {},
   "cell_type": "markdown",
   "metadata": {},
   "source": [
    "## Train the model with small train set"
   ]
  },
  {
   "cell_type": "code",
   "execution_count": 7,
   "metadata": {},
   "outputs": [
    {
     "data": {
      "text/plain": [
       "82.16"
      ]
     },
     "execution_count": 7,
     "metadata": {},
     "output_type": "execute_result"
    }
   ],
   "source": [
    "import buildVocabulary as bv\n",
    "import featuresExtraction as fe\n",
    "import trainClassifier as tc\n",
    "\n",
    "voc=bv.getVocabulary(path='../data/smalltrain/',numWords=1000)\n",
    "train_data=fe.get_bow_representation(voc)\n",
    "w,b=tc.train_classifier(train_data)\n",
    "predictions, accuracy=tc.inference_classifier(train_data,w,b)\n",
    "accuracy\n"
   ]
  },
  {
   "attachments": {},
   "cell_type": "markdown",
   "metadata": {},
   "source": [
    "## The model ignores very common words"
   ]
  },
  {
   "cell_type": "code",
   "execution_count": 8,
   "metadata": {},
   "outputs": [
    {
     "data": {
      "text/plain": [
       "82.52000000000001"
      ]
     },
     "execution_count": 8,
     "metadata": {},
     "output_type": "execute_result"
    }
   ],
   "source": [
    "wordsToIgnore=fe.load_vocabulary('../data/stopwords.txt')\n",
    "voc_no_common_words = [ele for ele in voc if ele not in wordsToIgnore]\n",
    "train_data=fe.get_bow_representation(voc_no_common_words)\n",
    "w,b=tc.train_classifier(train_data)\n",
    "predictions, accuracy=tc.inference_classifier(train_data,w,b)\n",
    "accuracy\n"
   ]
  },
  {
   "attachments": {},
   "cell_type": "markdown",
   "metadata": {},
   "source": [
    "## Model with stemming"
   ]
  },
  {
   "cell_type": "code",
   "execution_count": 9,
   "metadata": {},
   "outputs": [
    {
     "data": {
      "text/plain": [
       "82.16"
      ]
     },
     "execution_count": 9,
     "metadata": {},
     "output_type": "execute_result"
    }
   ],
   "source": [
    "import porter\n",
    "voc=porter.stem(voc)\n",
    "train_data=fe.get_bow_representation(voc)\n",
    "w,b=tc.train_classifier(train_data)\n",
    "predictions, accuracy=tc.inference_classifier(train_data,w,b)\n",
    "accuracy"
   ]
  },
  {
   "attachments": {},
   "cell_type": "markdown",
   "metadata": {},
   "source": [
    "## Model with stemming and ignore common words"
   ]
  },
  {
   "cell_type": "code",
   "execution_count": 10,
   "metadata": {},
   "outputs": [
    {
     "data": {
      "text/plain": [
       "82.52000000000001"
      ]
     },
     "execution_count": 10,
     "metadata": {},
     "output_type": "execute_result"
    }
   ],
   "source": [
    "import porter\n",
    "voc=porter.stem(voc_no_common_words)\n",
    "train_data=fe.get_bow_representation(voc)\n",
    "w,b=tc.train_classifier(train_data)\n",
    "predictions, accuracy=tc.inference_classifier(train_data,w,b)\n",
    "accuracy"
   ]
  }
 ],
 "metadata": {
  "kernelspec": {
   "display_name": "Python 3",
   "language": "python",
   "name": "python3"
  },
  "language_info": {
   "codemirror_mode": {
    "name": "ipython",
    "version": 3
   },
   "file_extension": ".py",
   "mimetype": "text/x-python",
   "name": "python",
   "nbconvert_exporter": "python",
   "pygments_lexer": "ipython3",
   "version": "3.10.6"
  },
  "orig_nbformat": 4
 },
 "nbformat": 4,
 "nbformat_minor": 2
}
